{
 "cells": [
  {
   "attachments": {},
   "cell_type": "markdown",
   "metadata": {},
   "source": [
    "## Imports"
   ]
  },
  {
   "cell_type": "code",
   "execution_count": 1,
   "metadata": {},
   "outputs": [
    {
     "name": "stderr",
     "output_type": "stream",
     "text": [
      "/home/pol_schiessel/ensk996e/.local/lib/python3.11/site-packages/matplotlib/projections/__init__.py:63: UserWarning: Unable to import Axes3D. This may be due to multiple versions of Matplotlib being installed (e.g. as a system package and as a pip package). As a result, the 3D projection is not available.\n",
      "  warnings.warn(\"Unable to import Axes3D. This may be due to multiple versions of \"\n"
     ]
    }
   ],
   "source": [
    "import numpy as np\n",
    "import polycg"
   ]
  },
  {
   "cell_type": "markdown",
   "metadata": {},
   "source": [
    "### Generate RBP parameters in Cayley coordinates and relative to midstep triad"
   ]
  },
  {
   "cell_type": "code",
   "execution_count": 6,
   "metadata": {},
   "outputs": [
    {
     "name": "stdout",
     "output_type": "stream",
     "text": [
      "(100, 6)\n",
      "(600, 600)\n"
     ]
    }
   ],
   "source": [
    "# generate random sequence\n",
    "nbp = 101\n",
    "seq = ''.join(['atcg'[np.random.randint(4)] for i in range(nbp)])\n",
    "\n",
    "gs_cayley,stiff_cayley = polycg.cgnaplus_bps_params(seq,euler_definition=False,group_split=False,remove_factor_five=True)\n",
    "print(gs_cayley.shape)\n",
    "print(stiff_cayley.shape)"
   ]
  },
  {
   "cell_type": "markdown",
   "metadata": {},
   "source": [
    "### Transform from Cayley to Euler parameters"
   ]
  },
  {
   "cell_type": "code",
   "execution_count": 7,
   "metadata": {},
   "outputs": [
    {
     "ename": "AttributeError",
     "evalue": "module 'polycg' has no attribute 'cayley2euler'",
     "output_type": "error",
     "traceback": [
      "\u001b[0;31m---------------------------------------------------------------------------\u001b[0m",
      "\u001b[0;31mAttributeError\u001b[0m                            Traceback (most recent call last)",
      "Cell \u001b[0;32mIn[7], line 2\u001b[0m\n\u001b[1;32m      1\u001b[0m \u001b[38;5;66;03m# transform groundstate\u001b[39;00m\n\u001b[0;32m----> 2\u001b[0m gs_euler \u001b[38;5;241m=\u001b[39m \u001b[43mpolycg\u001b[49m\u001b[38;5;241;43m.\u001b[39;49m\u001b[43mcayley2euler\u001b[49m(gs_cayley)\n\u001b[1;32m      4\u001b[0m \u001b[38;5;66;03m# transform stiffness matrix\u001b[39;00m\n\u001b[1;32m      5\u001b[0m stiff_euler \u001b[38;5;241m=\u001b[39m polycg\u001b[38;5;241m.\u001b[39mcayley2euler_stiffmat(gs_cayley, stiff_cayley)\n",
      "\u001b[0;31mAttributeError\u001b[0m: module 'polycg' has no attribute 'cayley2euler'"
     ]
    }
   ],
   "source": [
    "# transform groundstate\n",
    "gs_euler = polycg.cayley2euler(gs_cayley)\n",
    "\n",
    "# transform stiffness matrix\n",
    "stiff_euler = polycg.cayley2euler_stiffmat(gs_cayley, stiff_cayley)"
   ]
  },
  {
   "cell_type": "markdown",
   "metadata": {},
   "source": [
    "### Coarse-Grain ground state only"
   ]
  },
  {
   "cell_type": "code",
   "execution_count": null,
   "metadata": {},
   "outputs": [],
   "source": [
    "composite_size = 10\n",
    "cg_gs = polycg.cg_groundstate(gs,composite_size=composite_size)\n",
    "print(cg_gs.shape)"
   ]
  },
  {
   "cell_type": "markdown",
   "metadata": {},
   "source": [
    "### Direct Generation\n",
    "The method `gen_params` can directly generate coarse-grained parameters if if the argument `composite_size` is specified"
   ]
  },
  {
   "cell_type": "code",
   "execution_count": null,
   "metadata": {},
   "outputs": [],
   "source": [
    "# generate random sequence\n",
    "nbp = 401\n",
    "seq = ''.join(['atcg'[np.random.randint(4)] for i in range(nbp)])\n",
    "composite_size = 10\n",
    "\n",
    "params = polycg.gen_params('cgnaplus',seq,composite_size=composite_size)\n",
    "cg_gs = params['cg_gs']\n",
    "cg_stiff = params['cg_stiff']\n",
    "\n",
    "print(cg_gs.shape)\n",
    "print(cg_stiff.shape)"
   ]
  }
 ],
 "metadata": {
  "kernelspec": {
   "display_name": "Python 3",
   "language": "python",
   "name": "python3"
  },
  "language_info": {
   "codemirror_mode": {
    "name": "ipython",
    "version": 3
   },
   "file_extension": ".py",
   "mimetype": "text/x-python",
   "name": "python",
   "nbconvert_exporter": "python",
   "pygments_lexer": "ipython3",
   "version": "3.11.0rc1"
  },
  "orig_nbformat": 4,
  "vscode": {
   "interpreter": {
    "hash": "916dbcbb3f70747c44a77c7bcd40155683ae19c65e1c03b4aa3499c5328201f1"
   }
  }
 },
 "nbformat": 4,
 "nbformat_minor": 2
}
