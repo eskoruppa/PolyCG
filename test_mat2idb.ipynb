{
 "cells": [
  {
   "attachments": {},
   "cell_type": "markdown",
   "metadata": {},
   "source": [
    "## Imports"
   ]
  },
  {
   "cell_type": "code",
   "execution_count": 4,
   "metadata": {},
   "outputs": [],
   "source": [
    "import numpy as np\n",
    "import polycg"
   ]
  },
  {
   "cell_type": "markdown",
   "metadata": {},
   "source": [
    "### Load stiffness and groundstate"
   ]
  },
  {
   "cell_type": "code",
   "execution_count": 5,
   "metadata": {},
   "outputs": [],
   "source": [
    "basein = 'Data/NucSeqs/md'\n",
    "\n",
    "fnstiff = basein + '_stiff.npy'\n",
    "fngs = basein + '_gs.npy'\n",
    "fnseq = basein + '_seq'\n",
    "\n",
    "disc_len = 0.34\n",
    "stiff   = np.load(fnstiff)\n",
    "gs      = np.load(fngs)\n",
    "seq     = polycg.load_sequence(fnseq)\n",
    "nbp = len(gs)//3 + 1"
   ]
  },
  {
   "cell_type": "markdown",
   "metadata": {},
   "source": [
    "### Generate PolyMC idb"
   ]
  },
  {
   "cell_type": "code",
   "execution_count": 7,
   "metadata": {},
   "outputs": [],
   "source": [
    "baseout = 'Data/NucSeqs/md_polymc'\n",
    "couprange = 4\n",
    "\n",
    "polycg.stiff2idb(baseout,gs,stiff,couprange,False,disc_len=disc_len,generate_missing=False)"
   ]
  },
  {
   "cell_type": "code",
   "execution_count": null,
   "metadata": {},
   "outputs": [],
   "source": []
  }
 ],
 "metadata": {
  "kernelspec": {
   "display_name": "Python 3",
   "language": "python",
   "name": "python3"
  },
  "language_info": {
   "codemirror_mode": {
    "name": "ipython",
    "version": 3
   },
   "file_extension": ".py",
   "mimetype": "text/x-python",
   "name": "python",
   "nbconvert_exporter": "python",
   "pygments_lexer": "ipython3",
   "version": "3.10.12"
  },
  "orig_nbformat": 4,
  "vscode": {
   "interpreter": {
    "hash": "916dbcbb3f70747c44a77c7bcd40155683ae19c65e1c03b4aa3499c5328201f1"
   }
  }
 },
 "nbformat": 4,
 "nbformat_minor": 2
}
